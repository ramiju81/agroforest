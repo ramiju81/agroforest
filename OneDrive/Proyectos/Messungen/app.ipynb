{
 "cells": [
  {
   "cell_type": "markdown",
   "metadata": {
    "id": "XVyt_Xj5-Wia"
   },
   "source": [
    "Celda1"
   ]
  },
  {
   "cell_type": "code",
   "execution_count": 1,
   "metadata": {
    "colab": {
     "base_uri": "https://localhost:8080/"
    },
    "collapsed": true,
    "executionInfo": {
     "elapsed": 11944,
     "status": "ok",
     "timestamp": 1744063648048,
     "user": {
      "displayName": "Julian Ramirez",
      "userId": "04003253491306161362"
     },
     "user_tz": 300
    },
    "id": "7tqdEgPl9Npi",
    "outputId": "20a17ee3-0545-4bcc-c538-faf6622a54ee"
   },
   "outputs": [
    {
     "name": "stdout",
     "output_type": "stream",
     "text": [
      "Requirement already satisfied: flask in c:\\users\\julir\\appdata\\local\\programs\\python\\python313\\lib\\site-packages (3.1.0)\n",
      "Requirement already satisfied: flask_sqlalchemy in c:\\users\\julir\\appdata\\local\\programs\\python\\python313\\lib\\site-packages (3.1.1)\n",
      "Requirement already satisfied: pyngrok in c:\\users\\julir\\appdata\\local\\programs\\python\\python313\\lib\\site-packages (7.2.3)\n",
      "Requirement already satisfied: python-dotenv in c:\\users\\julir\\appdata\\local\\programs\\python\\python313\\lib\\site-packages (1.1.0)\n",
      "Requirement already satisfied: requests-oauthlib in c:\\users\\julir\\appdata\\local\\programs\\python\\python313\\lib\\site-packages (2.0.0)\n",
      "Requirement already satisfied: Werkzeug>=3.1 in c:\\users\\julir\\appdata\\local\\programs\\python\\python313\\lib\\site-packages (from flask) (3.1.3)\n",
      "Requirement already satisfied: Jinja2>=3.1.2 in c:\\users\\julir\\appdata\\local\\programs\\python\\python313\\lib\\site-packages (from flask) (3.1.6)\n",
      "Requirement already satisfied: itsdangerous>=2.2 in c:\\users\\julir\\appdata\\local\\programs\\python\\python313\\lib\\site-packages (from flask) (2.2.0)\n",
      "Requirement already satisfied: click>=8.1.3 in c:\\users\\julir\\appdata\\local\\programs\\python\\python313\\lib\\site-packages (from flask) (8.1.8)\n",
      "Requirement already satisfied: blinker>=1.9 in c:\\users\\julir\\appdata\\local\\programs\\python\\python313\\lib\\site-packages (from flask) (1.9.0)\n",
      "Requirement already satisfied: sqlalchemy>=2.0.16 in c:\\users\\julir\\appdata\\local\\programs\\python\\python313\\lib\\site-packages (from flask_sqlalchemy) (2.0.40)\n",
      "Requirement already satisfied: PyYAML>=5.1 in c:\\users\\julir\\appdata\\local\\programs\\python\\python313\\lib\\site-packages (from pyngrok) (6.0.2)\n",
      "Requirement already satisfied: oauthlib>=3.0.0 in c:\\users\\julir\\appdata\\local\\programs\\python\\python313\\lib\\site-packages (from requests-oauthlib) (3.2.2)\n",
      "Requirement already satisfied: requests>=2.0.0 in c:\\users\\julir\\appdata\\local\\programs\\python\\python313\\lib\\site-packages (from requests-oauthlib) (2.32.3)\n",
      "Requirement already satisfied: colorama in c:\\users\\julir\\appdata\\roaming\\python\\python313\\site-packages (from click>=8.1.3->flask) (0.4.6)\n",
      "Requirement already satisfied: MarkupSafe>=2.0 in c:\\users\\julir\\appdata\\local\\programs\\python\\python313\\lib\\site-packages (from Jinja2>=3.1.2->flask) (3.0.2)\n",
      "Requirement already satisfied: charset-normalizer<4,>=2 in c:\\users\\julir\\appdata\\local\\programs\\python\\python313\\lib\\site-packages (from requests>=2.0.0->requests-oauthlib) (3.4.1)\n",
      "Requirement already satisfied: idna<4,>=2.5 in c:\\users\\julir\\appdata\\local\\programs\\python\\python313\\lib\\site-packages (from requests>=2.0.0->requests-oauthlib) (3.10)\n",
      "Requirement already satisfied: urllib3<3,>=1.21.1 in c:\\users\\julir\\appdata\\local\\programs\\python\\python313\\lib\\site-packages (from requests>=2.0.0->requests-oauthlib) (2.3.0)\n",
      "Requirement already satisfied: certifi>=2017.4.17 in c:\\users\\julir\\appdata\\local\\programs\\python\\python313\\lib\\site-packages (from requests>=2.0.0->requests-oauthlib) (2025.1.31)\n",
      "Requirement already satisfied: greenlet>=1 in c:\\users\\julir\\appdata\\local\\programs\\python\\python313\\lib\\site-packages (from sqlalchemy>=2.0.16->flask_sqlalchemy) (3.1.1)\n",
      "Requirement already satisfied: typing-extensions>=4.6.0 in c:\\users\\julir\\appdata\\local\\programs\\python\\python313\\lib\\site-packages (from sqlalchemy>=2.0.16->flask_sqlalchemy) (4.13.1)\n"
     ]
    },
    {
     "name": "stderr",
     "output_type": "stream",
     "text": [
      "\n",
      "[notice] A new release of pip is available: 24.3.1 -> 25.0.1\n",
      "[notice] To update, run: python.exe -m pip install --upgrade pip\n"
     ]
    }
   ],
   "source": [
    "!pip install flask flask_sqlalchemy pyngrok python-dotenv requests-oauthlib"
   ]
  },
  {
   "cell_type": "markdown",
   "metadata": {
    "id": "xB_Eb7-q-b6V"
   },
   "source": [
    "Celda 2"
   ]
  },
  {
   "cell_type": "code",
   "execution_count": 2,
   "metadata": {
    "colab": {
     "base_uri": "https://localhost:8080/"
    },
    "executionInfo": {
     "elapsed": 49,
     "status": "ok",
     "timestamp": 1744063673782,
     "user": {
      "displayName": "Julian Ramirez",
      "userId": "04003253491306161362"
     },
     "user_tz": 300
    },
    "id": "JkUKpSAs9uaF",
    "outputId": "58bb279b-40ae-4e9e-eb12-7551f74815fb"
   },
   "outputs": [
    {
     "name": "stdout",
     "output_type": "stream",
     "text": [
      "✅ .env creado con éxito\n"
     ]
    }
   ],
   "source": [
    "# Sustituye el token por el tuyo personal\n",
    "token = \"2vPtl6kHq0BkIZiRGWDzGl3kizc_2MyFkWmTdpMgN5Je8QQEP\"\n",
    "\n",
    "with open(\".env\", \"w\") as f:\n",
    "    f.write(f\"NGROK_AUTHTOKEN={token}\\n\")\n",
    "\n",
    "print(\"✅ .env creado con éxito\")\n"
   ]
  },
  {
   "cell_type": "markdown",
   "metadata": {
    "id": "HJXL9Drp-fbo"
   },
   "source": [
    "Celda 3"
   ]
  },
  {
   "cell_type": "code",
   "execution_count": 3,
   "metadata": {
    "colab": {
     "base_uri": "https://localhost:8080/"
    },
    "executionInfo": {
     "elapsed": 1516,
     "status": "ok",
     "timestamp": 1744063681080,
     "user": {
      "displayName": "Julian Ramirez",
      "userId": "04003253491306161362"
     },
     "user_tz": 300
    },
    "id": "R5OfYSZy90rG",
    "outputId": "eb1c1bf5-777f-40b4-89d7-ff8e4e9e4e0c"
   },
   "outputs": [
    {
     "name": "stdout",
     "output_type": "stream",
     "text": [
      "📦 Base de datos creada\n"
     ]
    }
   ],
   "source": [
    "from flask_sqlalchemy import SQLAlchemy\n",
    "from flask import Flask\n",
    "\n",
    "app = Flask(__name__)\n",
    "app.config['SQLALCHEMY_DATABASE_URI'] = 'sqlite:///messungen.db'\n",
    "app.config['SQLALCHEMY_TRACK_MODIFICATIONS'] = False\n",
    "app.secret_key = 'clave_secreta'\n",
    "\n",
    "db = SQLAlchemy(app)\n",
    "\n",
    "class Usuario(db.Model):\n",
    "    id = db.Column(db.Integer, primary_key=True)\n",
    "    nombre = db.Column(db.String(150))\n",
    "    correo = db.Column(db.String(150), unique=True)\n",
    "    contraseña = db.Column(db.String(150))\n",
    "    origen = db.Column(db.String(50))  # google o manual\n",
    "\n",
    "with app.app_context():\n",
    "    db.create_all()\n",
    "    print(\"📦 Base de datos creada\")\n"
   ]
  },
  {
   "cell_type": "markdown",
   "metadata": {
    "id": "3Mm5L-WM-jGX"
   },
   "source": [
    "Celda 4"
   ]
  },
  {
   "cell_type": "code",
   "execution_count": 4,
   "metadata": {
    "colab": {
     "base_uri": "https://localhost:8080/"
    },
    "executionInfo": {
     "elapsed": 2099,
     "status": "ok",
     "timestamp": 1744063687039,
     "user": {
      "displayName": "Julian Ramirez",
      "userId": "04003253491306161362"
     },
     "user_tz": 300
    },
    "id": "ws_EdsW392Y1",
    "outputId": "41f1bead-8603-4379-ef2d-ec3d6696b7b8"
   },
   "outputs": [
    {
     "name": "stdout",
     "output_type": "stream",
     "text": [
      "🌐 Tu app está disponible en: NgrokTunnel: \"https://0751-186-27-213-35.ngrok-free.app\" -> \"http://localhost:5000\"\n"
     ]
    }
   ],
   "source": [
    "from pyngrok import ngrok, conf\n",
    "from dotenv import load_dotenv\n",
    "import os\n",
    "\n",
    "load_dotenv()\n",
    "ngrok_token = os.getenv(\"NGROK_AUTHTOKEN\")\n",
    "conf.get_default().auth_token = ngrok_token\n",
    "\n",
    "public_url = ngrok.connect(5000)\n",
    "print(\"🌐 Tu app está disponible en:\", public_url)"
   ]
  },
  {
   "cell_type": "markdown",
   "metadata": {
    "id": "BWN_-lCH-sFI"
   },
   "source": [
    "Celda 5"
   ]
  },
  {
   "cell_type": "code",
   "execution_count": 5,
   "metadata": {
    "colab": {
     "base_uri": "https://localhost:8080/"
    },
    "executionInfo": {
     "elapsed": 238,
     "status": "ok",
     "timestamp": 1744063692472,
     "user": {
      "displayName": "Julian Ramirez",
      "userId": "04003253491306161362"
     },
     "user_tz": 300
    },
    "id": "DltEpD2N-F3u",
    "outputId": "1022c244-0cca-4ec2-b11f-56f45bd2dda7"
   },
   "outputs": [
    {
     "name": "stdout",
     "output_type": "stream",
     "text": [
      "🔗 URI de redirección autorizada que debes usar en Google Cloud Console:\n",
      "NgrokTunnel: \"https://0751-186-27-213-35.ngrok-free.app\" -> \"http://localhost:5000\"/google/callback\n"
     ]
    }
   ],
   "source": [
    "from requests_oauthlib import OAuth2Session\n",
    "\n",
    "# Reemplaza por tus valores reales\n",
    "CLIENT_ID = \"944897940833-kkushpcet8k9semtced5oulapb86np9a.apps.googleusercontent.com\"\n",
    "CLIENT_SECRET = \"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\"\n",
    "REDIRECT_URI = str(public_url) + \"/google/callback\"\n",
    "\n",
    "AUTHORIZATION_BASE_URL = \"https://accounts.google.com/o/oauth2/auth\"\n",
    "TOKEN_URL = \"https://accounts.google.com/o/oauth2/token\"\n",
    "SCOPE = [\"https://www.googleapis.com/auth/userinfo.email\", \"https://www.googleapis.com/auth/userinfo.profile\"]\n",
    "\n",
    "print(\"🔗 URI de redirección autorizada que debes usar en Google Cloud Console:\")\n",
    "print(REDIRECT_URI)\n"
   ]
  },
  {
   "cell_type": "markdown",
   "metadata": {
    "id": "K_U43Bf4-wlI"
   },
   "source": [
    "Celda 6"
   ]
  },
  {
   "cell_type": "code",
   "execution_count": 8,
   "metadata": {
    "executionInfo": {
     "elapsed": 17,
     "status": "ok",
     "timestamp": 1744063697625,
     "user": {
      "displayName": "Julian Ramirez",
      "userId": "04003253491306161362"
     },
     "user_tz": 300
    },
    "id": "XK9Ud7v4-HW8"
   },
   "outputs": [],
   "source": [
    "from flask import render_template_string, request, redirect, session, url_for\n",
    "import requests\n",
    "# Esto limpia rutas anteriores para que no dé error si vuelves a correr la celda\n",
    "app.view_functions.clear()\n",
    "@app.route('/')\n",
    "def inicio():\n",
    "    return render_template_string(\"\"\"\n",
    "    <h2>Bienvenido a <strong>Messungen</strong></h2>\n",
    "    <a href='/login/google'><button>🔐 Iniciar sesión con Google</button></a><br><br>\n",
    "    <a href='/login'><button>📧 Iniciar sesión manual</button></a><br><br>\n",
    "    <a href='/register'><button>📝 Crear cuenta manual</button></a>\n",
    "    \"\"\")\n",
    "\n",
    "@app.route('/login/google')\n",
    "def login_google():\n",
    "    google = OAuth2Session(CLIENT_ID, scope=SCOPE, redirect_uri=REDIRECT_URI)\n",
    "    authorization_url, state = google.authorization_url(AUTHORIZATION_BASE_URL, access_type=\"offline\", prompt=\"select_account\")\n",
    "    session['oauth_state'] = state\n",
    "    return redirect(authorization_url)\n",
    "\n",
    "@app.route('/google/callback')\n",
    "def callback_google():\n",
    "    google = OAuth2Session(CLIENT_ID, state=session['oauth_state'], redirect_uri=REDIRECT_URI)\n",
    "    token = google.fetch_token(TOKEN_URL, client_secret=CLIENT_SECRET, authorization_response=request.url)\n",
    "\n",
    "    r = google.get(\"https://www.googleapis.com/oauth2/v1/userinfo\").json()\n",
    "    correo = r['email']\n",
    "    nombre = r.get('name', 'Usuario Google')\n",
    "\n",
    "    usuario = Usuario.query.filter_by(correo=correo).first()\n",
    "    if not usuario:\n",
    "        usuario = Usuario(nombre=nombre, correo=correo, contraseña=\"\", origen=\"google\")\n",
    "        db.session.add(usuario)\n",
    "        db.session.commit()\n",
    "\n",
    "    session['usuario'] = usuario.correo\n",
    "    return redirect('/dashboard')\n",
    "\n",
    "@app.route('/dashboard')\n",
    "def dashboard():\n",
    "    if 'usuario' not in session:\n",
    "        return redirect('/')\n",
    "    return f\"Hola {session['usuario']} 👋 Bienvenido a tu panel.\"\n",
    "\n",
    "@app.route('/logout')\n",
    "def logout():\n",
    "    session.clear()\n",
    "    return redirect('/')\n"
   ]
  },
  {
   "cell_type": "markdown",
   "metadata": {
    "id": "y2D0TcHQ-zUk"
   },
   "source": [
    "Celda 7"
   ]
  },
  {
   "cell_type": "code",
   "execution_count": 9,
   "metadata": {
    "executionInfo": {
     "elapsed": 4,
     "status": "ok",
     "timestamp": 1744063707148,
     "user": {
      "displayName": "Julian Ramirez",
      "userId": "04003253491306161362"
     },
     "user_tz": 300
    },
    "id": "HWeI_7VC-NmZ"
   },
   "outputs": [],
   "source": [
    "from werkzeug.security import generate_password_hash, check_password_hash\n",
    "\n",
    "@app.route('/register', methods=['GET', 'POST'])\n",
    "def register():\n",
    "    if request.method == 'POST':\n",
    "        nombre = request.form['nombre']\n",
    "        correo = request.form['correo']\n",
    "        contraseña = request.form['contraseña']\n",
    "        if Usuario.query.filter_by(correo=correo).first():\n",
    "            return \"❌ El correo ya está registrado.\"\n",
    "        usuario = Usuario(nombre=nombre, correo=correo, contraseña=generate_password_hash(contraseña), origen=\"manual\")\n",
    "        db.session.add(usuario)\n",
    "        db.session.commit()\n",
    "        session['usuario'] = correo\n",
    "        return redirect('/dashboard')\n",
    "    return render_template_string(\"\"\"\n",
    "    <h3>Registro Manual</h3>\n",
    "    <form method='POST'>\n",
    "        <input name='nombre' placeholder='Nombre'><br><br>\n",
    "        <input name='correo' placeholder='Correo'><br><br>\n",
    "        <input name='contraseña' type='password' placeholder='Contraseña'><br><br>\n",
    "        <button type='submit'>Crear cuenta</button>\n",
    "    </form>\n",
    "    \"\"\")\n",
    "\n",
    "@app.route('/login', methods=['GET', 'POST'])\n",
    "def login():\n",
    "    if request.method == 'POST':\n",
    "        correo = request.form['correo']\n",
    "        contraseña = request.form['contraseña']\n",
    "        usuario = Usuario.query.filter_by(correo=correo).first()\n",
    "        if usuario and check_password_hash(usuario.contraseña, contraseña):\n",
    "            session['usuario'] = usuario.correo\n",
    "            return redirect('/dashboard')\n",
    "        return \"❌ Datos inválidos\"\n",
    "    return render_template_string(\"\"\"\n",
    "    <h3>Iniciar sesión Manual</h3>\n",
    "    <form method='POST'>\n",
    "        <input name='correo' placeholder='Correo'><br><br>\n",
    "        <input name='contraseña' type='password' placeholder='Contraseña'><br><br>\n",
    "        <button type='submit'>Entrar</button>\n",
    "    </form>\n",
    "    \"\"\")\n"
   ]
  },
  {
   "cell_type": "markdown",
   "metadata": {
    "id": "M5l0vXB7-1_V"
   },
   "source": [
    "Celda 8"
   ]
  },
  {
   "cell_type": "code",
   "execution_count": null,
   "metadata": {
    "colab": {
     "base_uri": "https://localhost:8080/"
    },
    "id": "AuZ5kBDS-RRu",
    "outputId": "7d02ef3e-5b89-49c9-c4ae-35fd0eb52076"
   },
   "outputs": [
    {
     "name": "stdout",
     "output_type": "stream",
     "text": [
      " * Serving Flask app '__main__'\n",
      " * Debug mode: off\n"
     ]
    },
    {
     "name": "stderr",
     "output_type": "stream",
     "text": [
      "WARNING: This is a development server. Do not use it in a production deployment. Use a production WSGI server instead.\n",
      " * Running on http://127.0.0.1:5000\n",
      "Press CTRL+C to quit\n",
      "127.0.0.1 - - [09/Apr/2025 20:03:47] \"GET / HTTP/1.1\" 200 -\n",
      "127.0.0.1 - - [09/Apr/2025 20:03:48] \"GET /favicon.ico HTTP/1.1\" 404 -\n",
      "127.0.0.1 - - [09/Apr/2025 20:03:59] \"GET /login/google HTTP/1.1\" 302 -\n",
      "127.0.0.1 - - [09/Apr/2025 20:04:27] \"GET / HTTP/1.1\" 200 -\n",
      "127.0.0.1 - - [09/Apr/2025 20:04:30] \"GET /login HTTP/1.1\" 200 -\n",
      "127.0.0.1 - - [09/Apr/2025 20:04:36] \"GET /register HTTP/1.1\" 200 -\n",
      "127.0.0.1 - - [09/Apr/2025 20:04:53] \"POST /register HTTP/1.1\" 302 -\n",
      "127.0.0.1 - - [09/Apr/2025 20:04:53] \"GET /dashboard HTTP/1.1\" 200 -\n",
      "127.0.0.1 - - [09/Apr/2025 20:05:08] \"GET / HTTP/1.1\" 200 -\n",
      "127.0.0.1 - - [09/Apr/2025 20:05:12] \"GET /login/google HTTP/1.1\" 302 -\n"
     ]
    }
   ],
   "source": [
    "app.run()\n"
   ]
  }
 ],
 "metadata": {
  "colab": {
   "authorship_tag": "ABX9TyPDv/iBbz5nYkPxuFe/qygE",
   "provenance": []
  },
  "kernelspec": {
   "display_name": "Python 3",
   "name": "python3"
  },
  "language_info": {
   "codemirror_mode": {
    "name": "ipython",
    "version": 3
   },
   "file_extension": ".py",
   "mimetype": "text/x-python",
   "name": "python",
   "nbconvert_exporter": "python",
   "pygments_lexer": "ipython3",
   "version": "3.13.2"
  }
 },
 "nbformat": 4,
 "nbformat_minor": 0
}
